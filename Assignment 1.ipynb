{
 "cells": [
  {
   "cell_type": "code",
   "execution_count": 1,
   "id": "de98d7f7",
   "metadata": {},
   "outputs": [],
   "source": [
    "# 1.\tWrite a Python program to print \"Hello Python\"?"
   ]
  },
  {
   "cell_type": "code",
   "execution_count": 19,
   "id": "4b2b09fb",
   "metadata": {},
   "outputs": [],
   "source": [
    "print(\"Hello Python\")"
   ]
  },
  {
   "cell_type": "code",
   "execution_count": 3,
   "id": "ba0f5375",
   "metadata": {},
   "outputs": [],
   "source": [
    "# 2.\tWrite a Python program to do arithmetical operations addition and division.?"
   ]
  },
  {
   "cell_type": "code",
   "execution_count": 18,
   "id": "cde8cd65",
   "metadata": {},
   "outputs": [],
   "source": [
    "a = int(input(\"\\n Please enter a number : \"))\n",
    "b = int(input(\"\\n Please enter another number : \"))\n",
    "c = a+b\n",
    "print(\"\\n The sum of \" , a , \" and \" , b , \" is : \", c)\n",
    "c = a/b\n",
    "print(\"\\n The division of \" , a , \" and \" , b , \" is : \", c)"
   ]
  },
  {
   "cell_type": "code",
   "execution_count": 20,
   "id": "57798971",
   "metadata": {},
   "outputs": [],
   "source": [
    "# 3.\tWrite a Python program to find the area of a triangle?"
   ]
  },
  {
   "cell_type": "code",
   "execution_count": 23,
   "id": "090c3f31",
   "metadata": {},
   "outputs": [],
   "source": [
    "h = int(input(\"\\n Please enter the height of the triangle : \"))\n",
    "b = int(input(\"\\n Please enter the breath of the triangle : \"))\n",
    "\n",
    "area = (b*h) / 2\n",
    "\n",
    "print(\"\\n The area of triangle with height \", h , \" and breath is \", b , \" is : \", area)"
   ]
  },
  {
   "cell_type": "code",
   "execution_count": 24,
   "id": "8a5dd9fc",
   "metadata": {},
   "outputs": [],
   "source": [
    "# 4.\tWrite a Python program to swap two variables?"
   ]
  },
  {
   "cell_type": "code",
   "execution_count": null,
   "id": "5e9cef1a",
   "metadata": {},
   "outputs": [],
   "source": [
    "a = int(input(\"\\n Please enter a number : \"))\n",
    "b = int(input(\"\\n Please enter another number : \"))\n",
    "\n",
    "temp = a\n",
    "a = b\n",
    "b = temp\n",
    "\n",
    "print(\"\\n The value of a is : \", a)\n",
    "print(\"\\n The value of b is : \", b)"
   ]
  },
  {
   "cell_type": "code",
   "execution_count": null,
   "id": "2f0a07fa",
   "metadata": {},
   "outputs": [],
   "source": [
    "#5.\tWrite a Python program to generate a random number?"
   ]
  },
  {
   "cell_type": "code",
   "execution_count": 32,
   "id": "cb452aba",
   "metadata": {},
   "outputs": [],
   "source": [
    "import random\n",
    "print(\"\\n The random value is : \", random.randrange(1,100))"
   ]
  },
  {
   "cell_type": "code",
   "execution_count": null,
   "id": "521e6983",
   "metadata": {},
   "outputs": [],
   "source": []
  }
 ],
 "metadata": {
  "kernelspec": {
   "display_name": "Python 3",
   "language": "python",
   "name": "python3"
  },
  "language_info": {
   "codemirror_mode": {
    "name": "ipython",
    "version": 3
   },
   "file_extension": ".py",
   "mimetype": "text/x-python",
   "name": "python",
   "nbconvert_exporter": "python",
   "pygments_lexer": "ipython3",
   "version": "3.8.8"
  }
 },
 "nbformat": 4,
 "nbformat_minor": 5
}
