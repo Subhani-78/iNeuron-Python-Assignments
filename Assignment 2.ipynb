{
 "cells": [
  {
   "cell_type": "code",
   "execution_count": 1,
   "id": "7395a927",
   "metadata": {},
   "outputs": [],
   "source": [
    "# 1. Write a Python program to convert kilometers to miles?"
   ]
  },
  {
   "cell_type": "code",
   "execution_count": 9,
   "id": "7996a0f3",
   "metadata": {},
   "outputs": [
    {
     "name": "stdout",
     "output_type": "stream",
     "text": [
      "\n",
      " Please enter distance traveled in Kilometer : 89\n",
      "\n",
      " 89.0 converted into 143.231616 miles\n"
     ]
    }
   ],
   "source": [
    "CONV = float(1.609344) \n",
    "km = float(input(\"\\n Please enter distance traveled in Kilometer : \"))\n",
    "miles = km * CONV\n",
    "print(\"\\n\",km,\"converted into\", miles, \"miles\" )"
   ]
  },
  {
   "cell_type": "code",
   "execution_count": 10,
   "id": "e341d476",
   "metadata": {},
   "outputs": [],
   "source": [
    "# 2. Write a Python program to convert Celsius to Fahrenheit?"
   ]
  },
  {
   "cell_type": "code",
   "execution_count": 11,
   "id": "1becb500",
   "metadata": {},
   "outputs": [
    {
     "name": "stdout",
     "output_type": "stream",
     "text": [
      "\n",
      " Please enter temperature in celcius : 67\n",
      "\n",
      " 67.0 Celcius converted into 152.6 Fahrenheit\n"
     ]
    }
   ],
   "source": [
    "cel = float(input(\"\\n Please enter temperature in celcius : \"))\n",
    "far = cel * 9/5 + 32\n",
    "print(\"\\n\",cel,\"Celcius converted into\",far,\"Fahrenheit\")"
   ]
  },
  {
   "cell_type": "code",
   "execution_count": null,
   "id": "cb4cf9ac",
   "metadata": {},
   "outputs": [],
   "source": [
    "# 3.\tWrite a Python program to display calendar?"
   ]
  },
  {
   "cell_type": "code",
   "execution_count": 20,
   "id": "4569bd6c",
   "metadata": {},
   "outputs": [
    {
     "name": "stdout",
     "output_type": "stream",
     "text": [
      "\n",
      " Please enter the month : 1\n",
      "\n",
      " Please enter the year : 2020\n",
      "    January 2020\n",
      "Mo Tu We Th Fr Sa Su\n",
      "       1  2  3  4  5\n",
      " 6  7  8  9 10 11 12\n",
      "13 14 15 16 17 18 19\n",
      "20 21 22 23 24 25 26\n",
      "27 28 29 30 31\n",
      "\n"
     ]
    }
   ],
   "source": [
    "import calendar \n",
    "month = int(input(\"\\n Please enter the month : \"))\n",
    "year = int(input(\"\\n Please enter the year : \"))\n",
    "print(calendar.month(year,month))"
   ]
  },
  {
   "cell_type": "code",
   "execution_count": 21,
   "id": "147a7bed",
   "metadata": {},
   "outputs": [],
   "source": [
    "# 4.\tWrite a Python program to solve quadratic equation?"
   ]
  },
  {
   "cell_type": "code",
   "execution_count": 35,
   "id": "36c7b512",
   "metadata": {},
   "outputs": [
    {
     "name": "stdout",
     "output_type": "stream",
     "text": [
      "\n",
      " Please enter value of a : 1\n",
      "\n",
      " Please enter value of b : 3\n",
      "\n",
      " Please enter value of c : 4\n",
      "\n",
      " The solutions are (-1.5-1.3228756555322954j) and (-1.5+1.3228756555322954j)\n"
     ]
    }
   ],
   "source": [
    "# Quardratic Equation : \n",
    "# ax^2 + bx + c = 0, where\n",
    "# a, b and c are real numbers and\n",
    "# a ≠ 0\n",
    "\n",
    "import cmath\n",
    "\n",
    "a = int(input(\"\\n Please enter value of a : \"))\n",
    "b = int(input(\"\\n Please enter value of b : \"))\n",
    "c = int(input(\"\\n Please enter value of c : \"))\n",
    "\n",
    "# calculate the discriminant\n",
    "d = (b**2) - (4*a*c)\n",
    "\n",
    "# find two solutions\n",
    "sol1 = (-b-cmath.sqrt(d))/(2*a)\n",
    "sol2 = (-b+cmath.sqrt(d))/(2*a)\n",
    "\n",
    "print(\"\\n The solutions are\", sol1, \"and\", sol2)"
   ]
  },
  {
   "cell_type": "code",
   "execution_count": 36,
   "id": "c5c9fd4d",
   "metadata": {},
   "outputs": [],
   "source": [
    "#5.\tWrite a Python program to swap two variables without temp variable?"
   ]
  },
  {
   "cell_type": "code",
   "execution_count": 40,
   "id": "859ab5e5",
   "metadata": {},
   "outputs": [
    {
     "name": "stdout",
     "output_type": "stream",
     "text": [
      "\n",
      " Please enter num1 : 8\n",
      "\n",
      " Please enter num2 : 2\n",
      "\n",
      " The value of num1 is 2 and num2 8\n"
     ]
    }
   ],
   "source": [
    "def swap_num(a,b):\n",
    "    return b,a\n",
    "\n",
    "num1 = int(input(\"\\n Please enter num1 : \"))\n",
    "num2 = int(input(\"\\n Please enter num2 : \"))\n",
    "\n",
    "num1, num2 = swap_num(num1,num2)\n",
    "\n",
    "print(\"\\n The value of num1 is\",num1,\"and num2\",num2)"
   ]
  },
  {
   "cell_type": "code",
   "execution_count": null,
   "id": "e90e156a",
   "metadata": {},
   "outputs": [],
   "source": []
  }
 ],
 "metadata": {
  "kernelspec": {
   "display_name": "Python 3",
   "language": "python",
   "name": "python3"
  },
  "language_info": {
   "codemirror_mode": {
    "name": "ipython",
    "version": 3
   },
   "file_extension": ".py",
   "mimetype": "text/x-python",
   "name": "python",
   "nbconvert_exporter": "python",
   "pygments_lexer": "ipython3",
   "version": "3.8.8"
  }
 },
 "nbformat": 4,
 "nbformat_minor": 5
}
