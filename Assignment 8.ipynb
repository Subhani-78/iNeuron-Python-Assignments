{
 "cells": [
  {
   "cell_type": "code",
   "execution_count": 7,
   "id": "4509ecaa",
   "metadata": {},
   "outputs": [
    {
     "name": "stdout",
     "output_type": "stream",
     "text": [
      "[12, 14, 17]\n",
      "[8, 6, 3]\n",
      "[10, 17, 10]\n"
     ]
    }
   ],
   "source": [
    "# Write a Python Program to Add Two Matrices?\n",
    "\n",
    "mat1 = [[5,9,8],\n",
    "       [7,4,0],\n",
    "       [5,9,4]]\n",
    "\n",
    "mat2 = [[7,5,9],\n",
    "       [1,2,3],\n",
    "       [5,8,6]]\n",
    "\n",
    "mat3 = [[0,0,0],\n",
    "       [0,0,0],\n",
    "       [0,0,0]]\n",
    "\n",
    "# To add two matrices we use a nested for loop\n",
    "\n",
    "for i in range(len(mat1)):\n",
    "    for j in range(len(mat2)):\n",
    "        \n",
    "        mat3[i][j] = mat1[i][j] + mat2[i][j]\n",
    "        \n",
    "for r in mat3:\n",
    "    print(r)"
   ]
  },
  {
   "cell_type": "code",
   "execution_count": 30,
   "id": "c2d457c2",
   "metadata": {},
   "outputs": [
    {
     "name": "stdout",
     "output_type": "stream",
     "text": [
      "\n",
      " Please enter number of rows : 3\n",
      "\n",
      " Please enter number of cols : 3\n",
      "\n",
      " Please enter a number : 1\n",
      "\n",
      " Please enter a number : 2\n",
      "\n",
      " Please enter a number : 3\n",
      "\n",
      " Please enter a number : 4\n",
      "\n",
      " Please enter a number : 5\n",
      "\n",
      " Please enter a number : 6\n",
      "\n",
      " Please enter a number : 7\n",
      "\n",
      " Please enter a number : 8\n",
      "\n",
      " Please enter a number : 9\n",
      "\n",
      " Please enter number of rows : 3\n",
      "\n",
      " Please enter number of cols : 3\n",
      "\n",
      " Please enter a number : 1\n",
      "\n",
      " Please enter a number : 2\n",
      "\n",
      " Please enter a number : 3\n",
      "\n",
      " Please enter a number : 4\n",
      "\n",
      " Please enter a number : 5\n",
      "\n",
      " Please enter a number : 6\n",
      "\n",
      " Please enter a number : 7\n",
      "\n",
      " Please enter a number : 8\n",
      "\n",
      " Please enter a number : 9\n",
      "\n",
      " Resultant Matrix : \n",
      "[49, 56, 63]\n",
      "[0, 0, 0]\n",
      "[0, 0, 0]\n"
     ]
    }
   ],
   "source": [
    "# Write a Python Program to Multiply Two Matrices?\n",
    "\n",
    "def inputMatrix():\n",
    "    \n",
    "    r = int(input(\"\\n Please enter number of rows : \"))\n",
    "    c = int(input(\"\\n Please enter number of cols : \"))\n",
    "    mat = []\n",
    "    \n",
    "    for i in range(r):\n",
    "        row = []\n",
    "        for j in range(c):\n",
    "            val = int(input(\"\\n Please enter a number : \"))\n",
    "            row.append(val)\n",
    "        \n",
    "    mat.append(row)\n",
    "    \n",
    "    return mat\n",
    "\n",
    "def matrixMultiplication(mat1, mat2):\n",
    "    \n",
    "    result = [[0,0,0],\n",
    "       [0,0,0],\n",
    "       [0,0,0]]\n",
    "    \n",
    "    for i in range(len(mat1)):\n",
    "        # iterating by column by B\n",
    "        for j in range(len(mat2[0])):\n",
    "            # iterating by rows of B\n",
    "            for k in range(len(mat2)):\n",
    "                result[i][j] += mat1[i][k] * mat2[k][j]\n",
    "                \n",
    "    return result\n",
    "\n",
    "if __name__ == \"__main__\":\n",
    "    \n",
    "    mat1 = inputMatrix()\n",
    "    mat2 = inputMatrix()\n",
    "    r = matrixMultiplication(mat1,mat2)\n",
    "    \n",
    "    print(\"\\n Resultant Matrix : \")\n",
    "    for i in r:\n",
    "        print(i)"
   ]
  },
  {
   "cell_type": "code",
   "execution_count": 41,
   "id": "9b649c58",
   "metadata": {},
   "outputs": [
    {
     "name": "stdout",
     "output_type": "stream",
     "text": [
      "[1, 3, 5]\n",
      "[2, 4, 6]\n"
     ]
    }
   ],
   "source": [
    "# Write a Python Program to Transpose a Matrix?\n",
    "\n",
    "x = [[1,2],\n",
    "     [3,4],\n",
    "     [5,6]]\n",
    "\n",
    "result = [[0, 0, 0], \n",
    "          [0, 0, 0]]\n",
    "\n",
    "# Iterate through rows\n",
    "for i in range(len(x)):\n",
    "   #Iterate through columns\n",
    "   for j in range(len(x[0])):\n",
    "        result[j][i] = x[i][j]\n",
    "        \n",
    "for r in result:\n",
    "    print(r)"
   ]
  },
  {
   "cell_type": "code",
   "execution_count": 85,
   "id": "c0f4b7de",
   "metadata": {},
   "outputs": [
    {
     "name": "stdout",
     "output_type": "stream",
     "text": [
      "forgeeksgeeks\n"
     ]
    }
   ],
   "source": [
    "# Write a Python Program to Sort Words in Alphabetic Order?\n",
    "\n",
    "str_s = \"geeks for Geeks\"\n",
    "words = str_s.split(\" \")\n",
    "\n",
    "for i in range(len(words)):\n",
    "    words[i] = words[i].lower()\n",
    "    \n",
    "w = []\n",
    "words.sort()\n",
    "\n",
    "for i in range(len(words)):\n",
    "    w.append(words[i])\n",
    "    \n",
    "print(\"\".join(w))"
   ]
  },
  {
   "cell_type": "code",
   "execution_count": 90,
   "id": "5c05e321",
   "metadata": {},
   "outputs": [
    {
     "name": "stdout",
     "output_type": "stream",
     "text": [
      "This is a punctionation string\n"
     ]
    }
   ],
   "source": [
    "# Write a Python Program to Remove Punctuation From a String?\n",
    "\n",
    "import string\n",
    "s = \"This is, a! punctionation string?\"\n",
    "p = s.translate(str.maketrans('', '', string.punctuation))\n",
    "\n",
    "print(p)"
   ]
  },
  {
   "cell_type": "code",
   "execution_count": null,
   "id": "5bc38892",
   "metadata": {},
   "outputs": [],
   "source": []
  }
 ],
 "metadata": {
  "kernelspec": {
   "display_name": "Python 3",
   "language": "python",
   "name": "python3"
  },
  "language_info": {
   "codemirror_mode": {
    "name": "ipython",
    "version": 3
   },
   "file_extension": ".py",
   "mimetype": "text/x-python",
   "name": "python",
   "nbconvert_exporter": "python",
   "pygments_lexer": "ipython3",
   "version": "3.8.8"
  }
 },
 "nbformat": 4,
 "nbformat_minor": 5
}
