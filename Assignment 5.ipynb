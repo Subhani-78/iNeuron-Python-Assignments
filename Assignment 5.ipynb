{
 "cells": [
  {
   "cell_type": "code",
   "execution_count": 1,
   "id": "143c203b",
   "metadata": {},
   "outputs": [],
   "source": [
    "# 1. Write a Python Program to Find LCM?"
   ]
  },
  {
   "cell_type": "code",
   "execution_count": 7,
   "id": "2b2580df",
   "metadata": {},
   "outputs": [
    {
     "name": "stdout",
     "output_type": "stream",
     "text": [
      "\n",
      " Please enter a number : 15\n",
      "\n",
      " Please enter another number : 30\n",
      "\n",
      " Lcm is :  30\n"
     ]
    }
   ],
   "source": [
    "def lcm_value(x,y):\n",
    "    \n",
    "    if(x>y):\n",
    "        greater = x\n",
    "    else:\n",
    "        greater = y\n",
    "    \n",
    "    while(True):\n",
    "        \n",
    "        if((greater % x == 0) and (greater % y == 0)):\n",
    "            lcm = greater\n",
    "            break\n",
    "        greater = greater + 1\n",
    "        \n",
    "    return lcm\n",
    "    \n",
    "\n",
    "\n",
    "n1 = int(input(\"\\n Please enter a number : \"))\n",
    "n2 = int(input(\"\\n Please enter another number : \"))\n",
    "\n",
    "print(\"\\n Lcm is : \", lcm_value(n1,n2))"
   ]
  },
  {
   "cell_type": "code",
   "execution_count": 8,
   "id": "4eb59988",
   "metadata": {},
   "outputs": [],
   "source": [
    "# 2. Write a Python Program to Find HCF?"
   ]
  },
  {
   "cell_type": "code",
   "execution_count": 12,
   "id": "61808798",
   "metadata": {},
   "outputs": [
    {
     "name": "stdout",
     "output_type": "stream",
     "text": [
      "\n",
      " HCF is :  40\n"
     ]
    }
   ],
   "source": [
    "def hcf_value(x,y):\n",
    "    \n",
    "    m = x\n",
    "    n = y\n",
    "    \n",
    "    while(m!=n):\n",
    "        \n",
    "        if(m>n):\n",
    "            m = m -n\n",
    "        else:\n",
    "            n = n - m\n",
    "        \n",
    "    return m\n",
    "\n",
    "print(\"\\n HCF is : \", hcf_value(40,80))"
   ]
  },
  {
   "cell_type": "code",
   "execution_count": 11,
   "id": "ebcacc86",
   "metadata": {},
   "outputs": [],
   "source": [
    "# 3. Write a Python Program to Convert Decimal to Binary, Octal and Hexadecimal?"
   ]
  },
  {
   "cell_type": "code",
   "execution_count": 14,
   "id": "c202ea02",
   "metadata": {},
   "outputs": [
    {
     "name": "stdout",
     "output_type": "stream",
     "text": [
      "Please enter a number : 89\n",
      " Binary value :  0b1011001\n",
      " Octal value :  0o131\n",
      " Hexa value :  0x59\n"
     ]
    }
   ],
   "source": [
    "def dec_bin(x):\n",
    "    return bin(x)\n",
    "def dec_oct(x):\n",
    "    return oct(x)\n",
    "def dec_hex(x):\n",
    "    return hex(x)\n",
    "\n",
    "x = int(input(\"Please enter a number : \"))\n",
    "print(\" Binary value : \", dec_bin(x))\n",
    "print(\" Octal value : \", dec_oct(x))\n",
    "print(\" Hexa value : \", dec_hex(x))"
   ]
  },
  {
   "cell_type": "code",
   "execution_count": 15,
   "id": "478b9ac3",
   "metadata": {},
   "outputs": [],
   "source": [
    "# 4. Write a Python Program To Find ASCII value of a character?"
   ]
  },
  {
   "cell_type": "code",
   "execution_count": 19,
   "id": "1ce7eea8",
   "metadata": {},
   "outputs": [
    {
     "name": "stdout",
     "output_type": "stream",
     "text": [
      "N\n"
     ]
    }
   ],
   "source": [
    "def ascii_value(x):\n",
    "    return chr(x)\n",
    "\n",
    "n = 90\n",
    "print(ascii_value(78))"
   ]
  },
  {
   "cell_type": "code",
   "execution_count": 20,
   "id": "6c71f482",
   "metadata": {},
   "outputs": [],
   "source": [
    "# 5 Write a Python Program to Make a Simple Calculator with 4 basic mathematical operations?"
   ]
  },
  {
   "cell_type": "code",
   "execution_count": null,
   "id": "ee9a0004",
   "metadata": {},
   "outputs": [],
   "source": [
    "def sum(x,y):\n",
    "    return x+y\n",
    "def mult(x,y):\n",
    "    return x*y\n",
    "def divi(x,y):\n",
    "    return x/y\n",
    "def sub(x,y):\n",
    "    return x-y\n",
    "\n",
    "n1 = int(input(\"\\n Please enter a value : \"))\n",
    "n2 = int(input(\"\\n Please enter another value : \"))\n",
    "\n",
    "choice = int(input(\"\\n Please enter to choose : \\n 1.Sum \\n 2.Divide \\n 3.Multiply \\n 4.Subtraction \\n\"))\n",
    "\n",
    "if(choice == 1):\n",
    "    print(sum(n1,n2))\n",
    "elif(choice == 2):\n",
    "    print(divi(n1,n2))\n",
    "elif(choice == 3):\n",
    "    print(mult(n1,n2))\n",
    "else:\n",
    "    print(sub(n1,n2))"
   ]
  },
  {
   "cell_type": "code",
   "execution_count": null,
   "id": "4b852f10",
   "metadata": {},
   "outputs": [],
   "source": []
  }
 ],
 "metadata": {
  "kernelspec": {
   "display_name": "Python 3",
   "language": "python",
   "name": "python3"
  },
  "language_info": {
   "codemirror_mode": {
    "name": "ipython",
    "version": 3
   },
   "file_extension": ".py",
   "mimetype": "text/x-python",
   "name": "python",
   "nbconvert_exporter": "python",
   "pygments_lexer": "ipython3",
   "version": "3.8.8"
  }
 },
 "nbformat": 4,
 "nbformat_minor": 5
}
