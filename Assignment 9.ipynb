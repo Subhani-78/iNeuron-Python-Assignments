{
 "cells": [
  {
   "cell_type": "code",
   "execution_count": 14,
   "id": "e996f671",
   "metadata": {},
   "outputs": [
    {
     "name": "stdout",
     "output_type": "stream",
     "text": [
      "\n",
      " Please enter a number : 175\n",
      "\n",
      " Yes! 175 is a disarium number.\n"
     ]
    }
   ],
   "source": [
    "# Write a Python program to check if the given number is a Disarium Number?\n",
    "\n",
    "def disariumNumber(num):\n",
    "    \n",
    "    numLenght = int(len(str(num)))\n",
    "    exp = numLenght\n",
    "    s = 0\n",
    "    for i in range(int(numLenght)):\n",
    "        temp = num%10\n",
    "        temp = pow(temp,exp)\n",
    "        s = s + temp\n",
    "        exp = exp - 1\n",
    "        num = int(num / 10)\n",
    "    \n",
    "    return s\n",
    "\n",
    "\n",
    "if __name__ == \"__main__\":\n",
    "    num = int(input(\"\\n Please enter a number : \"))\n",
    "    r = disariumNumber(num)\n",
    "    \n",
    "    if r == num:\n",
    "        print(\"\\n Yes!\",num, \"is a disarium number.\")\n",
    "    "
   ]
  },
  {
   "cell_type": "code",
   "execution_count": 15,
   "id": "01381671",
   "metadata": {},
   "outputs": [
    {
     "name": "stdout",
     "output_type": "stream",
     "text": [
      "0 is a disarium number.\n",
      "1 is a disarium number.\n",
      "2 is a disarium number.\n",
      "3 is a disarium number.\n",
      "4 is a disarium number.\n",
      "5 is a disarium number.\n",
      "6 is a disarium number.\n",
      "7 is a disarium number.\n",
      "8 is a disarium number.\n",
      "9 is a disarium number.\n",
      "89 is a disarium number.\n"
     ]
    }
   ],
   "source": [
    "# Write a Python program to print all disarium numbers between 1 to 100?\n",
    "\n",
    "def disariumNumber(num):\n",
    "    \n",
    "    numLenght = int(len(str(num)))\n",
    "    exp = numLenght\n",
    "    s = 0\n",
    "    for i in range(int(numLenght)):\n",
    "        temp = num%10\n",
    "        temp = pow(temp,exp)\n",
    "        s = s + temp\n",
    "        exp = exp - 1\n",
    "        num = int(num / 10)\n",
    "        \n",
    "    return s\n",
    "\n",
    "def disariumRange():\n",
    "    \n",
    "    for i in range(100):\n",
    "        if disariumNumber(i) == i:\n",
    "            print(i,\"is a disarium number.\")\n",
    "\n",
    "if __name__ == \"__main__\":\n",
    "    \n",
    "    disariumRange()"
   ]
  },
  {
   "cell_type": "code",
   "execution_count": 48,
   "id": "c6fdf664",
   "metadata": {},
   "outputs": [
    {
     "name": "stdout",
     "output_type": "stream",
     "text": [
      "\n",
      " Please enter a number : 19\n",
      "19  is a happy number\n"
     ]
    }
   ],
   "source": [
    "# Write a Python program to check if the given number is Happy Number?\n",
    "\n",
    "def happyNumber(num):\n",
    "    if num == 1 or num == 7:\n",
    "        return true\n",
    "    numSet = set()\n",
    "    sumNum = 0 # To calculate sum\n",
    "    tempnum = 0 # To store a temporary num\n",
    "    \n",
    "    \n",
    "    while(True):\n",
    "        sumNum = 0\n",
    "        numlen = int(len(str(abs(num))))\n",
    "        for i in range(numlen):\n",
    "            temp = num%10\n",
    "            sumNum = sumNum + pow(temp,2)\n",
    "            num = int(num/10)\n",
    "        \n",
    "        if sumNum == 1:\n",
    "            return True\n",
    "        \n",
    "        for i in range(len(numSet)):\n",
    "            l = list(numSet)\n",
    "            if l[i] == sumNum:\n",
    "                return False\n",
    "                \n",
    "        numSet.add(sumNum)\n",
    "        num = sumNum\n",
    "    \n",
    "\n",
    "if __name__ == \"__main__\":\n",
    "    \n",
    "    n = int(input(\"\\n Please enter a number : \"))\n",
    "    r = happyNumber(n)\n",
    "    \n",
    "    if(r == True):\n",
    "        print(n,\"is a happy number\")\n",
    "    else:\n",
    "        print(\"Not happy number\")"
   ]
  },
  {
   "cell_type": "code",
   "execution_count": 52,
   "id": "1f7353e1",
   "metadata": {},
   "outputs": [
    {
     "name": "stdout",
     "output_type": "stream",
     "text": [
      "1 is a Happy Number\n",
      "7 is a Happy Number\n",
      "10 is a Happy Number\n",
      "13 is a Happy Number\n",
      "19 is a Happy Number\n",
      "23 is a Happy Number\n",
      "28 is a Happy Number\n",
      "31 is a Happy Number\n",
      "32 is a Happy Number\n",
      "44 is a Happy Number\n",
      "49 is a Happy Number\n",
      "68 is a Happy Number\n",
      "70 is a Happy Number\n",
      "79 is a Happy Number\n",
      "82 is a Happy Number\n",
      "86 is a Happy Number\n",
      "91 is a Happy Number\n",
      "94 is a Happy Number\n",
      "97 is a Happy Number\n"
     ]
    }
   ],
   "source": [
    "# Write a Python program to print all happy numbers between 1 and 100?\n",
    "\n",
    "def happyNumber(num):\n",
    "    \n",
    "    numSet = set()\n",
    "    sumNum = 0 # To calculate sum\n",
    "    tempnum = 0 # To store a temporary num\n",
    "    \n",
    "    \n",
    "    while(True):\n",
    "        sumNum = 0\n",
    "        numlen = int(len(str(abs(num))))\n",
    "        for i in range(numlen):\n",
    "            temp = num%10\n",
    "            sumNum = sumNum + pow(temp,2)\n",
    "            num = int(num/10)\n",
    "        \n",
    "        if sumNum == 1:\n",
    "            return True\n",
    "        \n",
    "        for i in range(len(numSet)):\n",
    "            l = list(numSet)\n",
    "            if l[i] == sumNum:\n",
    "                return False\n",
    "                \n",
    "        numSet.add(sumNum)\n",
    "        num = sumNum\n",
    "        \n",
    "\n",
    "def happynumRange():\n",
    "    \n",
    "    for i in range(100):\n",
    "        if happyNumber(i) == True:\n",
    "            print(i,\"is a Happy Number\")\n",
    "    \n",
    "\n",
    "if __name__ == \"__main__\":\n",
    "    \n",
    "    happynumRange()"
   ]
  },
  {
   "cell_type": "code",
   "execution_count": 66,
   "id": "c98540a9",
   "metadata": {},
   "outputs": [
    {
     "name": "stdout",
     "output_type": "stream",
     "text": [
      "\n",
      " Please enter a number : 15\n",
      "Not Harshad\n"
     ]
    }
   ],
   "source": [
    "# Write a Python program to determine whether the given number is a Harshad Number?\n",
    "\n",
    "def harshadNumber(num):\n",
    "    \n",
    "    # Example: 12 is a harshad number => 1+2 = 3 => 12%3 = 0\n",
    "    numLen = int(len(str(abs(num))))\n",
    "    numSum = 0\n",
    "    n = num\n",
    "    \n",
    "    for i in range(numLen):\n",
    "        temp = n%10\n",
    "        numSum = numSum + temp\n",
    "        n = int(n/10)\n",
    "    \n",
    "    if(num % numSum) == 0:\n",
    "        return True\n",
    "    \n",
    "    \n",
    "if __name__ == \"__main__\":\n",
    "    \n",
    "    n = int(input(\"\\n Please enter a number : \"))\n",
    "    r = harshadNumber(n)\n",
    "    \n",
    "    \n",
    "    if(r == True):\n",
    "        print(n,\"is a Harshad Number\")\n",
    "    else:\n",
    "        print(\"Not Harshad\")"
   ]
  },
  {
   "cell_type": "code",
   "execution_count": 70,
   "id": "b5449cec",
   "metadata": {},
   "outputs": [
    {
     "name": "stdout",
     "output_type": "stream",
     "text": [
      "2 number is a pronic number.\n",
      "6 number is a pronic number.\n",
      "12 number is a pronic number.\n",
      "20 number is a pronic number.\n",
      "30 number is a pronic number.\n",
      "42 number is a pronic number.\n",
      "56 number is a pronic number.\n",
      "72 number is a pronic number.\n",
      "90 number is a pronic number.\n"
     ]
    }
   ],
   "source": [
    "# Write a Python program to print all pronic numbers between 1 and 100?\n",
    "\n",
    "def pronicNumber(num):\n",
    "    \n",
    "    # Ex: 20 is a pronic number because 4*5 = 20 (Two consective numbers are multiplied)\n",
    "    numMultiply= 0\n",
    "    for i in range(num):\n",
    "        numMultiply = i * (i+1)\n",
    "        if numMultiply == num:\n",
    "            return num\n",
    "    \n",
    "def pronicRange():\n",
    "    \n",
    "    for i in range(100):\n",
    "        if i == pronicNumber(i):\n",
    "            print(i,\"number is a pronic number.\")\n",
    "    \n",
    "if __name__ == \"__main__\":\n",
    "    \n",
    "    pronicRange()\n",
    "    "
   ]
  },
  {
   "cell_type": "code",
   "execution_count": null,
   "id": "6a0f7f8b",
   "metadata": {},
   "outputs": [],
   "source": []
  }
 ],
 "metadata": {
  "kernelspec": {
   "display_name": "Python 3",
   "language": "python",
   "name": "python3"
  },
  "language_info": {
   "codemirror_mode": {
    "name": "ipython",
    "version": 3
   },
   "file_extension": ".py",
   "mimetype": "text/x-python",
   "name": "python",
   "nbconvert_exporter": "python",
   "pygments_lexer": "ipython3",
   "version": "3.8.8"
  }
 },
 "nbformat": 4,
 "nbformat_minor": 5
}
